{
 "cells": [
  {
   "attachments": {},
   "cell_type": "markdown",
   "metadata": {},
   "source": [
    "# Sample Time-Series of NEE for 4 selected sites and their probability density functions - Figure 2 in the Manuscript\n"
   ]
  },
  {
   "attachments": {},
   "cell_type": "markdown",
   "metadata": {},
   "source": [
    "# mporting necessary libraries\n",
    "import numpy as np\n",
    "import pandas as pd\n",
    "import matplotlib.pyplot as plt\n",
    "import matplotlib as mpl\n",
    "from matplotlib.pyplot import figure\n",
    "from datetime import timedelta\n",
    "import matplotlib.lines as mlines\n",
    "import seaborn as sns\n",
    "from scipy.stats import norm\n",
    "from scipy.stats import gaussian_kde\n"
   ]
  },
  {
   "cell_type": "code",
   "execution_count": null,
   "metadata": {},
   "outputs": [],
   "source": [
    "# reading the files\n",
    "df = pd.read_excel(\"/Users/nikhi/Downloads/AUGIN20122014.xlsx\")\n",
    "df1 = pd.read_excel(\"/Users/nikhi/Downloads/AUTTETIMESERIES.xlsx\")\n",
    "df2 = pd.read_excel(\"/Users/nikhi/Downloads/DKSOR20122014.xlsx\")\n",
    "df3 = pd.read_excel(\"/Users/nikhi/Downloads/USWHS20122014.xlsx\")"
   ]
  },
  {
   "cell_type": "code",
   "execution_count": null,
   "metadata": {},
   "outputs": [],
   "source": [
    "import matplotlib.pyplot as plt\n",
    "import numpy as np\n",
    "\n",
    "# Assuming x, x1, x2, x3 are already defined and contain the data\n",
    "time5 = [0, 0.5, 1, 1.5, 2, 2.5, 3]\n",
    "fig = plt.figure(figsize=(21, 7))\n",
    "ax = fig.add_subplot(111)\n",
    "ax.plot(np.linspace(0, 3, len(x)), x, label='Woody Savanna', linestyle='-')\n",
    "ax.plot(np.linspace(0, 3, len(x1)), x1, label='Grassland', linestyle='-')\n",
    "ax.plot(np.linspace(0, 3, len(x2)), x2, label='Broadleaf Forest', linestyle='-')\n",
    "ax.plot(np.linspace(0, 3, len(x3)), x3, label='Open Shrubland', linestyle='-')\n",
    "ax.set_xticks(time5)\n",
    "ax.set_xticklabels(time5, fontsize=20)\n",
    "ax.set_xlabel(\"time (yrs)\", size='25')\n",
    "ax.set_ylabel('NEE (umol C $O_{2}$ $m^{-2}$ $s^{-1}$)', fontsize=25)\n",
    "ax.legend(loc='best', prop={'size': 15}, frameon =False)\n",
    "ax.tick_params(axis='both', labelsize=25)\n",
    "ax.spines['right'].set_visible(False)\n",
    "ax.spines['top'].set_visible(False)\n",
    "ax.set_ylim(-20, 50)\n",
    "\n",
    "plt.show()\n"
   ]
  },
  {
   "cell_type": "code",
   "execution_count": null,
   "metadata": {},
   "outputs": [],
   "source": [
    " # ploting probability density functions\n",
    "\n",
    "# reading the NEE values for all 4 sites\n",
    "data1 = df['NEE_OPPSIGN']\n",
    "data2 = df1['NEE_OPPSIGN']\n",
    "data3 = df2['NEE_OPPSIGN']\n",
    "data4 = df3['NEE_OPPSIGN']\n",
    "\n",
    "# Creating Gaussian Kernel Density Estimates for each site's data\n",
    "kde1 = gaussian_kde(data1, bw_method=1.5)\n",
    "kde2 = gaussian_kde(data2, bw_method=1.5)\n",
    "kde3 = gaussian_kde(data3, bw_method=1.5)\n",
    "kde4 = gaussian_kde(data4, bw_method=1.5)\n",
    "\n",
    "# Defining the histograms range and reversing x-axis \n",
    "x_range = np.linspace(50, -20, 1000) \n",
    "kde_values1 = kde1.evaluate(x_range)\n",
    "kde_values2 = kde2.evaluate(x_range)\n",
    "kde_values3 = kde3.evaluate(x_range)\n",
    "kde_values4 = kde4.evaluate(x_range)\n",
    "\n",
    "plt.figure(figsize=(12, 11))\n",
    "plt.plot(x_range, kde_values1, label='Woody Savanna')\n",
    "plt.plot(x_range, kde_values2, label='Grassland')\n",
    "plt.plot(x_range, kde_values3, label='Broadleaf Forest')\n",
    "plt.plot(x_range, kde_values4, label='Open Shrubland')\n",
    "\n",
    "# Setting the y-axis to log scale\n",
    "plt.yscale('log')\n",
    "plt.ylim(1e-6, 1)\n",
    "plt.ylabel('PDF', fontsize=40)\n",
    "plt.legend(prop={'size': 27}, frameon=False)\n",
    "plt.tick_params(axis='both', labelsize=30)\n",
    "plt.xlim([50, -20]) \n",
    "ax = plt.gca()\n",
    "ax.spines['right'].set_visible(False)\n",
    "ax.spines['top'].set_visible(False)\n",
    "ax.set_xticklabels([])\n",
    "plt.show()\n"
   ]
  },
  {
   "attachments": {},
   "cell_type": "markdown",
   "metadata": {},
   "source": [
    "# Fluctuation paths (light gray) and their average (thick dark gray) for all sites - Figure S1 in Supplementary Information"
   ]
  },
  {
   "cell_type": "code",
   "execution_count": null,
   "metadata": {},
   "outputs": [],
   "source": [
    "# importing images for panel figure\n",
    "image_files = [\n",
    "    '/Users/nikhi/Desktop/heng sites/AUGINWSA/FP3YRS.png',\n",
    "    '/Users/nikhi/Desktop/heng sites/AUTTEGRA/FP3YRS.png',\n",
    "    '/Users/nikhi/Desktop/heng sites/DKSORDBF/FP3YRS.png',\n",
    "    '/Users/nikhi/Desktop/heng sites/USWHSOSH/FP3YRS.png',\n",
    "    '/Users/nikhi/Desktop/heng sites/CNHA2WET/FP3YRS.png',\n",
    "    '/Users/nikhi/Desktop/heng sites/CNQIAENF/FP3YRS.png',\n",
    "    '/Users/nikhi/Desktop/heng sites/ESLJUOSH/FP3YRS.png',\n",
    "    '/Users/nikhi/Desktop/heng sites/GFGUY_EBF/FP3YRS.png',\n",
    "    '/Users/nikhi/Desktop/heng sites/NLLLOOENF/FP3YRS.png',\n",
    "    '/Users/nikhi/Desktop/heng sites/RUHA1GRA/FP3YRS.png',\n",
    "    '/Users/nikhi/Desktop/heng sites/USWKGGRA/FP3YRS.png',\n",
    "]\n",
    "\n",
    "# adding titles \n",
    "image_titles = [\n",
    "    'Woody Savanna {AUGIN}',\n",
    "    'Grassland {AUTTE}',\n",
    "    'Deciduous Broadleaf Forest {DKSOR}',\n",
    "    'Open Shrubland {USWHS}',\n",
    "    'Wetland {CNHA2}',\n",
    "    'Evergreen Needle Forest {CNQIA}',\n",
    "    'Open Shrubland {ESLJU}',\n",
    "    'Evergreen Broadleaf Forest {GFGUY}',\n",
    "    'Evergreen Needle Forest {NLLOO}',\n",
    "    'Grassland {RUHA}',\n",
    "    'Grassland {USWKG}',\n",
    "]\n",
    "# Creating a panel figure\n",
    "fig, axs = plt.subplots(4, 3, figsize=(40, 30), dpi=140) \n",
    "total_images = 11\n",
    "for i in range(4):  \n",
    "    for j in range(3):  \n",
    "        idx = i * 3 + j  \n",
    "        if idx < total_images:\n",
    "            img = mpimg.imread(image_files[idx])\n",
    "            axs[i, j].imshow(img, aspect='auto')\n",
    "            axs[i, j].axis('off')\n",
    "            prefix = chr(65 + idx) + ') '  \n",
    "            title = image_titles[idx]\n",
    "\n",
    "            axs[i, j].text(0.01, 1.06, prefix, weight='bold', ha='left', va='top', transform=axs[i, j].transAxes, fontsize=35)  \n",
    "            axs[i, j].text(0.05 + len(prefix) * 0.01, 1.06, title, ha='left', va='top', transform=axs[i, j].transAxes, fontsize=35) \n",
    "        else:\n",
    "            axs[i, j].axis('off')\n",
    "\n",
    "plt.tight_layout()\n",
    "plt.show()"
   ]
  },
  {
   "attachments": {},
   "cell_type": "markdown",
   "metadata": {},
   "source": [
    "# Asymmetry Coefficients (light gray) and their average (thick dark gray) for all sites - Figure S2 in Supplementary Information"
   ]
  },
  {
   "cell_type": "code",
   "execution_count": null,
   "metadata": {},
   "outputs": [],
   "source": [
    "# importing images for panel figure\n",
    "image_files = [\n",
    "    '/Users/nikhi/Desktop/heng sites/AUGINWSA/-11AC.png',\n",
    "    '/Users/nikhi/Desktop/heng sites/AUTTEGRA/-11AC.png',\n",
    "    '/Users/nikhi/Desktop/heng sites/DKSORDBF/-11AC.png',\n",
    "    '/Users/nikhi/Desktop/heng sites/USWHSOSH/-11AC.png',\n",
    "    '/Users/nikhi/Desktop/heng sites/CNHA2WET/-11AC.png',\n",
    "    '/Users/nikhi/Desktop/heng sites/CNQIAENF/-11AC.png',\n",
    "    '/Users/nikhi/Desktop/heng sites/ESLJUOSH/-11AC.png',\n",
    "    '/Users/nikhi/Desktop/heng sites/GFGUY_EBF/-11AC.png',\n",
    "    '/Users/nikhi/Desktop/heng sites/NLLLOOENF/-11AC.png',\n",
    "    '/Users/nikhi/Desktop/heng sites/RUHA1GRA/-11AC.png',\n",
    "    '/Users/nikhi/Desktop/heng sites/USWKGGRA/-11AC.png',\n",
    "]\n",
    "\n",
    "# adding titles \n",
    "image_titles = [\n",
    "    'Woody Savanna {AUGIN}',\n",
    "    'Grassland {AUTTE}',\n",
    "    'Deciduous Broadleaf Forest {DKSOR}',\n",
    "    'Open Shrubland {USWHS}',\n",
    "    'Wetland {CNHA2}',\n",
    "    'Evergreen Needle Forest {CNQIA}',\n",
    "    'Open Shrubland {ESLJU}',\n",
    "    'Evergreen Broadleaf Forest {GFGUY}',\n",
    "    'Evergreen Needle Forest {NLLOO}',\n",
    "    'Grassland {RUHA}',\n",
    "    'Grassland {USWKG}',\n",
    "]\n",
    "# Creating a panel figure \n",
    "fig, axs = plt.subplots(4, 3, figsize=(40, 30), dpi=140)  \n",
    "total_images = 11\n",
    "for i in range(4): \n",
    "    for j in range(3):  \n",
    "        idx = i * 3 + j  \n",
    "        if idx < total_images:\n",
    "            img = mpimg.imread(image_files[idx])\n",
    "            axs[i, j].imshow(img, aspect='auto')\n",
    "            axs[i, j].axis('off')\n",
    "            prefix = chr(65 + idx) + ') '  \n",
    "            title = image_titles[idx]\n",
    "            axs[i, j].text(0.01, 1.06, prefix, weight='bold', ha='left', va='top', transform=axs[i, j].transAxes, fontsize=35)  \n",
    "            axs[i, j].text(0.05 + len(prefix) * 0.01, 1.06, title, ha='left', va='top', transform=axs[i, j].transAxes, fontsize=35) \n",
    "        else:\n",
    "            axs[i, j].axis('off')  \n",
    "\n",
    "plt.tight_layout()\n",
    "plt.show()"
   ]
  },
  {
   "attachments": {},
   "cell_type": "markdown",
   "metadata": {},
   "source": [
    "# Asymmetry Variation with two thresholds for all sites for 3 years - Figure S3 in Supplementary Information"
   ]
  },
  {
   "cell_type": "code",
   "execution_count": null,
   "metadata": {},
   "outputs": [],
   "source": [
    "# importing images for panel figure\n",
    "image_files = [\n",
    "    '/Users/nikhi/Desktop/heng sites/AUGINWSA/FIN_AC3YRSVAR.png',\n",
    "    '/Users/nikhi/Desktop/heng sites/AUTTEGRA/FIN_AC3YRSVAR.png',\n",
    "    '/Users/nikhi/Desktop/heng sites/DKSORDBF/FIN_AC3YRSVAR.png',\n",
    "    '/Users/nikhi/Desktop/heng sites/USWHSOSH/FIN_AC3YRSVAR.png',\n",
    "    '/Users/nikhi/Desktop/heng sites/CNHA2WET/FIN_AC3YRSVAR.png',\n",
    "    '/Users/nikhi/Desktop/heng sites/CNQIAENF/FIN_AC3YRSVAR.png',\n",
    "    '/Users/nikhi/Desktop/heng sites/ESLJUOSH/FIN_AC3YRSVAR.png',\n",
    "    '/Users/nikhi/Desktop/heng sites/GFGUY_EBF/FIN_AC3YRSVAR.png',\n",
    "    '/Users/nikhi/Desktop/heng sites/NLLLOOENF/FIN_AC3YRSVAR.png',\n",
    "    '/Users/nikhi/Desktop/heng sites/RUHA1GRA/FIN_AC3YRSVAR.png',\n",
    "    '/Users/nikhi/Desktop/heng sites/USWKGGRA/FIN_AC3YRSVAR.png',\n",
    "]\n",
    "\n",
    "# adding titles \n",
    "image_titles = [\n",
    "    'Woody Savanna {AUGIN}',\n",
    "    'Grassland {AUTTE}',\n",
    "    'Deciduous Broadleaf Forest {DKSOR}',\n",
    "    'Open Shrubland {USWHS}',\n",
    "    'Wetland {CNHA2}',\n",
    "    'Evergreen Needle Forest {CNQIA}',\n",
    "    'Open Shrubland {ESLJU}',\n",
    "    'Evergreen Broadleaf Forest {GFGUY}',\n",
    "    'Evergreen Needle Forest {NLLOO}',\n",
    "    'Grassland {RUHA}',\n",
    "    'Grassland {USWKG}',\n",
    "]\n",
    "# Creating a panel figure \n",
    "fig, axs = plt.subplots(4, 3, figsize=(40, 30), dpi=140)\n",
    "total_images = 11\n",
    "for i in range(4): \n",
    "    for j in range(3):  \n",
    "        idx = i * 3 + j  \n",
    "        if idx < total_images:\n",
    "            img = mpimg.imread(image_files[idx])\n",
    "            axs[i, j].imshow(img, aspect='auto')\n",
    "            axs[i, j].axis('off')\n",
    "            prefix = chr(65 + idx) + ') ' \n",
    "            title = image_titles[idx]\n",
    "            axs[i, j].text(0.01, 1.06, prefix, weight='bold', ha='left', va='top', transform=axs[i, j].transAxes, fontsize=35)  \n",
    "            axs[i, j].text(0.05 + len(prefix) * 0.01, 1.06, title, ha='left', va='top', transform=axs[i, j].transAxes, fontsize=35) \n",
    "        else:\n",
    "            axs[i, j].axis('off') \n",
    "\n",
    "plt.tight_layout()\n",
    "plt.show()\n"
   ]
  },
  {
   "attachments": {},
   "cell_type": "markdown",
   "metadata": {},
   "source": [
    "# Error Bar plots - Figure 6 in the Manuscript"
   ]
  },
  {
   "attachments": {},
   "cell_type": "markdown",
   "metadata": {},
   "source": [
    "# importing necessary libraries\n",
    "import numpy as np\n",
    "import pandas as pd\n",
    "import matplotlib.pyplot as plt\n",
    "import matplotlib as mpl\n",
    "from matplotlib.pyplot import figure\n",
    "from datetime import timedelta\n",
    "import matplotlib.lines as mlines"
   ]
  },
  {
   "cell_type": "code",
   "execution_count": null,
   "metadata": {},
   "outputs": [],
   "source": [
    "# Read the files\n",
    "df = pd.read_excel(\"/Users/nikhi/Desktop/PROJ1LIT/BOXPLOT_INFO.xlsx\")\n",
    "df1 = pd.read_excel(\"/Users/nikhi/Desktop/PROJ1LIT/CRED_TAVG_PLOTINFO.xlsx\")"
   ]
  },
  {
   "cell_type": "code",
   "execution_count": null,
   "metadata": {},
   "outputs": [],
   "source": [
    "# reading the necessary columns \n",
    "amaxdiff = df[' Amax Diff']\n",
    "cdiff = df['THR diff']\n",
    "tavg = df1['3YRTA_AVG']\n",
    "cred = df1['RED ASYMMETRY PEAK']\n",
    "fpta = df1['FP_TA_AVG']"
   ]
  },
  {
   "cell_type": "code",
   "execution_count": null,
   "metadata": {},
   "outputs": [],
   "source": [
    "# calculating mean and standard deviation\n",
    "tempmean = np.mean(tavg)\n",
    "tavgsd = np.std(tavg)\n",
    "credmean = np.mean(cred)\n",
    "credsd = np.std(cred)\n",
    "fptamean = np.mean(fpta)\n",
    "fptasd = np.std(fpta)\n",
    "amaxmean = np.mean(amaxdiff)\n",
    "amaxsd = np.std(amaxdiff)\n",
    "cdiffmean = np.mean(cdiff)\n",
    "cdiffsd = np.std(cdiff)"
   ]
  },
  {
   "cell_type": "code",
   "execution_count": null,
   "metadata": {},
   "outputs": [],
   "source": [
    "# allocating data for the first figure in the panel\n",
    "data = {\n",
    "    'cred': cred,  \n",
    "    'tavg': tavg,     \n",
    "    'Site': ['Woody Savanna {AUGIN}'] + ['Grassland {AUTTE}'] + ['Wetland {CNHA2}'] + ['Evergreen Needle Forest {CNQIA}'] + ['Deciduous Broadleaf Forest {DKSOR}'] + ['Open Shrubland {ESLJU}'] + ['Evergreen Broadleaf Forest {GFGUY}'] + ['Evergreen Needle Forest {NLLOO}']  + ['Grassland {RUHA1}']  + ['Open Shrubland {USWHS}']  +['Grassland {USWKG}'] \n",
    "}\n",
    "df1 = pd.DataFrame(data)\n",
    "\n",
    "markers = ['o', 's', '^', 'D', '*', 'X', '<', '>','3','8','p']  \n",
    "colors = ['blue', 'orange', 'green', 'magenta', 'black', 'red', 'cyan', 'purple','teal','lime', 'violet']  \n",
    "sites = df1['Site'].unique()"
   ]
  },
  {
   "cell_type": "code",
   "execution_count": null,
   "metadata": {},
   "outputs": [],
   "source": [
    "# allocating data for the second figure in the panel\n",
    "data = {\n",
    "    'Amaxdiff': amaxdiff,  \n",
    "    'Cdiff': cdiff,     \n",
    "    'Site': ['Woody Savanna {AUGIN}'] + ['Grassland {AUTTE}'] + ['Wetland {CNHA2}'] + ['Evergreen Needle Forest {CNQIA}'] + ['Deciduous Broadleaf Forest {DKSOR}'] + ['Open Shrubland {ESLJU}'] + ['Evergreen Broadleaf Forest {GFGUY}'] + ['Evergreen Needle Forest {NLLOO}']  + ['Grassland {RUHA1}']  + ['Open Shrubland {USWHS}']  +['Grassland {USWKG}'] \n",
    "}\n",
    "df = pd.DataFrame(data)\n",
    "\n",
    "markers = ['o', 's', '^', 'D', '*', 'X', '<', '>','3','8','p']  \n",
    "colors = ['blue', 'orange', 'green', 'magenta', 'black', 'red', 'cyan', 'purple','teal','lime', 'violet']  \n",
    "sites = df['Site'].unique()"
   ]
  },
  {
   "attachments": {},
   "cell_type": "markdown",
   "metadata": {},
   "source": [
    "# Error Bar plot for 3yr Temperature average and Asymmetry max peak - Figure 6(a) in the Manuscript"
   ]
  },
  {
   "cell_type": "code",
   "execution_count": null,
   "metadata": {},
   "outputs": [],
   "source": [
    "# Creating the error bar plot\n",
    "fig, ax = plt.subplots(figsize=(12, 8))\n",
    "for site, marker, color in zip(sites, markers, colors):\n",
    "    subset = df1[df1['Site'] == site]\n",
    "    plt.errorbar(subset['tavg'], subset['cred'],  yerr=credsd, marker=marker, color=color, label=site)\n",
    "ax.set_xlabel('C', size=25)\n",
    "ax.set_ylabel('Amax', size=25)\n",
    "ax.tick_params(axis='both', labelsize=20)\n",
    "# ax.legend(loc='upper center', fontsize=9.9)\n",
    "ax.spines['right'].set_visible(False)\n",
    "ax.spines['top'].set_visible(False)\n",
    "ax.set_xlabel(\"3 year T average (°C)\", size='25')\n",
    "ax.set_ylabel('Amax at higher c', size='25')\n",
    "ax.tick_params(axis='both', labelsize=20)\n",
    "plt.show()"
   ]
  },
  {
   "attachments": {},
   "cell_type": "markdown",
   "metadata": {},
   "source": [
    "# Error Bar plot for Δasymmetry and Δc - Figure 6(b) in the Manuscript"
   ]
  },
  {
   "cell_type": "code",
   "execution_count": null,
   "metadata": {},
   "outputs": [],
   "source": [
    "# Creating the error bar plot\n",
    "fig, ax = plt.subplots(figsize=(12, 8))\n",
    "for site, marker, color in zip(sites, markers, colors):\n",
    "    subset = df[df['Site'] == site]\n",
    "    plt.errorbar(subset['Cdiff'], subset['Amaxdiff'],  yerr=amaxsd, marker=marker, color=color, label=site)\n",
    "ax.set_xlabel('C', size=25)\n",
    "ax.set_ylabel('Amax', size=25)\n",
    "ax.tick_params(axis='both', labelsize=20)\n",
    "# ax.legend(loc='best', fontsize=9.9)\n",
    "ax.spines['right'].set_visible(False)\n",
    "ax.spines['top'].set_visible(False)\n",
    "ax.set_xlabel(\"Δc\", size='25')\n",
    "ax.set_ylabel('ΔA$_{t}$ max', size='25')\n",
    "ax.tick_params(axis='both', labelsize=20)\n",
    "plt.show()"
   ]
  }
 ],
 "metadata": {
  "kernelspec": {
   "display_name": "base",
   "language": "python",
   "name": "python3"
  },
  "language_info": {
   "codemirror_mode": {
    "name": "ipython",
    "version": 3
   },
   "file_extension": ".py",
   "mimetype": "text/x-python",
   "name": "python",
   "nbconvert_exporter": "python",
   "pygments_lexer": "ipython3",
   "version": "3.9.18"
  },
  "orig_nbformat": 4
 },
 "nbformat": 4,
 "nbformat_minor": 2
}
